{
  "nbformat": 4,
  "nbformat_minor": 0,
  "metadata": {
    "colab": {
      "provenance": [],
      "authorship_tag": "ABX9TyPacwQF4CNxr5nkEAeCSRgU",
      "include_colab_link": true
    },
    "kernelspec": {
      "name": "python3",
      "display_name": "Python 3"
    },
    "language_info": {
      "name": "python"
    }
  },
  "cells": [
    {
      "cell_type": "markdown",
      "metadata": {
        "id": "view-in-github",
        "colab_type": "text"
      },
      "source": [
        "<a href=\"https://colab.research.google.com/github/masanvasg/Imersao-Alura/blob/main/Projeto.ipynb\" target=\"_parent\"><img src=\"https://colab.research.google.com/assets/colab-badge.svg\" alt=\"Open In Colab\"/></a>"
      ]
    },
    {
      "cell_type": "code",
      "execution_count": null,
      "metadata": {
        "id": "vPKB-RtD6-xh",
        "colab": {
          "base_uri": "https://localhost:8080/"
        },
        "outputId": "089461c3-3364-41a7-8a44-b986991f9fd6"
      },
      "outputs": [
        {
          "output_type": "stream",
          "name": "stdout",
          "text": [
            "Requirement already satisfied: google-genai in /usr/local/lib/python3.11/dist-packages (1.15.0)\n",
            "Requirement already satisfied: anyio<5.0.0,>=4.8.0 in /usr/local/lib/python3.11/dist-packages (from google-genai) (4.9.0)\n",
            "Requirement already satisfied: google-auth<3.0.0,>=2.14.1 in /usr/local/lib/python3.11/dist-packages (from google-genai) (2.38.0)\n",
            "Requirement already satisfied: httpx<1.0.0,>=0.28.1 in /usr/local/lib/python3.11/dist-packages (from google-genai) (0.28.1)\n",
            "Requirement already satisfied: pydantic<3.0.0,>=2.0.0 in /usr/local/lib/python3.11/dist-packages (from google-genai) (2.11.4)\n",
            "Requirement already satisfied: requests<3.0.0,>=2.28.1 in /usr/local/lib/python3.11/dist-packages (from google-genai) (2.32.3)\n",
            "Requirement already satisfied: websockets<15.1.0,>=13.0.0 in /usr/local/lib/python3.11/dist-packages (from google-genai) (15.0.1)\n",
            "Requirement already satisfied: typing-extensions<5.0.0,>=4.11.0 in /usr/local/lib/python3.11/dist-packages (from google-genai) (4.13.2)\n",
            "Requirement already satisfied: idna>=2.8 in /usr/local/lib/python3.11/dist-packages (from anyio<5.0.0,>=4.8.0->google-genai) (3.10)\n",
            "Requirement already satisfied: sniffio>=1.1 in /usr/local/lib/python3.11/dist-packages (from anyio<5.0.0,>=4.8.0->google-genai) (1.3.1)\n",
            "Requirement already satisfied: cachetools<6.0,>=2.0.0 in /usr/local/lib/python3.11/dist-packages (from google-auth<3.0.0,>=2.14.1->google-genai) (5.5.2)\n",
            "Requirement already satisfied: pyasn1-modules>=0.2.1 in /usr/local/lib/python3.11/dist-packages (from google-auth<3.0.0,>=2.14.1->google-genai) (0.4.2)\n",
            "Requirement already satisfied: rsa<5,>=3.1.4 in /usr/local/lib/python3.11/dist-packages (from google-auth<3.0.0,>=2.14.1->google-genai) (4.9.1)\n",
            "Requirement already satisfied: certifi in /usr/local/lib/python3.11/dist-packages (from httpx<1.0.0,>=0.28.1->google-genai) (2025.4.26)\n",
            "Requirement already satisfied: httpcore==1.* in /usr/local/lib/python3.11/dist-packages (from httpx<1.0.0,>=0.28.1->google-genai) (1.0.9)\n",
            "Requirement already satisfied: h11>=0.16 in /usr/local/lib/python3.11/dist-packages (from httpcore==1.*->httpx<1.0.0,>=0.28.1->google-genai) (0.16.0)\n",
            "Requirement already satisfied: annotated-types>=0.6.0 in /usr/local/lib/python3.11/dist-packages (from pydantic<3.0.0,>=2.0.0->google-genai) (0.7.0)\n",
            "Requirement already satisfied: pydantic-core==2.33.2 in /usr/local/lib/python3.11/dist-packages (from pydantic<3.0.0,>=2.0.0->google-genai) (2.33.2)\n",
            "Requirement already satisfied: typing-inspection>=0.4.0 in /usr/local/lib/python3.11/dist-packages (from pydantic<3.0.0,>=2.0.0->google-genai) (0.4.0)\n",
            "Requirement already satisfied: charset-normalizer<4,>=2 in /usr/local/lib/python3.11/dist-packages (from requests<3.0.0,>=2.28.1->google-genai) (3.4.2)\n",
            "Requirement already satisfied: urllib3<3,>=1.21.1 in /usr/local/lib/python3.11/dist-packages (from requests<3.0.0,>=2.28.1->google-genai) (2.4.0)\n",
            "Requirement already satisfied: pyasn1<0.7.0,>=0.6.1 in /usr/local/lib/python3.11/dist-packages (from pyasn1-modules>=0.2.1->google-auth<3.0.0,>=2.14.1->google-genai) (0.6.1)\n"
          ]
        }
      ],
      "source": [
        "!pip install google-genai"
      ]
    },
    {
      "cell_type": "code",
      "source": [
        "import os\n",
        "from google.colab import userdata\n",
        "\n",
        "os.environ['GOOGLE_API_KEY'] = userdata.get('GOOGLE_API_KEY')"
      ],
      "metadata": {
        "id": "wuv8Uuxi8596"
      },
      "execution_count": null,
      "outputs": []
    },
    {
      "cell_type": "code",
      "source": [
        "from google import genai\n",
        "\n",
        "client = genai.Client()"
      ],
      "metadata": {
        "id": "0v_3ZjS2AjKC"
      },
      "execution_count": null,
      "outputs": []
    },
    {
      "cell_type": "code",
      "source": [
        "for model in client.models.list():\n",
        "\n",
        "  print(model.name)"
      ],
      "metadata": {
        "colab": {
          "base_uri": "https://localhost:8080/"
        },
        "id": "O3hFDx2UBLUd",
        "outputId": "f9f4e99b-becb-4a6c-f0cf-91cf59e7595d"
      },
      "execution_count": null,
      "outputs": [
        {
          "output_type": "stream",
          "name": "stdout",
          "text": [
            "models/embedding-gecko-001\n",
            "models/gemini-1.0-pro-vision-latest\n",
            "models/gemini-pro-vision\n",
            "models/gemini-1.5-pro-latest\n",
            "models/gemini-1.5-pro-001\n",
            "models/gemini-1.5-pro-002\n",
            "models/gemini-1.5-pro\n",
            "models/gemini-1.5-flash-latest\n",
            "models/gemini-1.5-flash-001\n",
            "models/gemini-1.5-flash-001-tuning\n",
            "models/gemini-1.5-flash\n",
            "models/gemini-1.5-flash-002\n",
            "models/gemini-1.5-flash-8b\n",
            "models/gemini-1.5-flash-8b-001\n",
            "models/gemini-1.5-flash-8b-latest\n",
            "models/gemini-1.5-flash-8b-exp-0827\n",
            "models/gemini-1.5-flash-8b-exp-0924\n",
            "models/gemini-2.5-pro-exp-03-25\n",
            "models/gemini-2.5-pro-preview-03-25\n",
            "models/gemini-2.5-flash-preview-04-17\n",
            "models/gemini-2.5-flash-preview-04-17-thinking\n",
            "models/gemini-2.5-pro-preview-05-06\n",
            "models/gemini-2.0-flash-exp\n",
            "models/gemini-2.0-flash\n",
            "models/gemini-2.0-flash-001\n",
            "models/gemini-2.0-flash-exp-image-generation\n",
            "models/gemini-2.0-flash-lite-001\n",
            "models/gemini-2.0-flash-lite\n",
            "models/gemini-2.0-flash-preview-image-generation\n",
            "models/gemini-2.0-flash-lite-preview-02-05\n",
            "models/gemini-2.0-flash-lite-preview\n",
            "models/gemini-2.0-pro-exp\n",
            "models/gemini-2.0-pro-exp-02-05\n",
            "models/gemini-exp-1206\n",
            "models/gemini-2.0-flash-thinking-exp-01-21\n",
            "models/gemini-2.0-flash-thinking-exp\n",
            "models/gemini-2.0-flash-thinking-exp-1219\n",
            "models/learnlm-2.0-flash-experimental\n",
            "models/gemma-3-1b-it\n",
            "models/gemma-3-4b-it\n",
            "models/gemma-3-12b-it\n",
            "models/gemma-3-27b-it\n",
            "models/embedding-001\n",
            "models/text-embedding-004\n",
            "models/gemini-embedding-exp-03-07\n",
            "models/gemini-embedding-exp\n",
            "models/aqa\n",
            "models/imagen-3.0-generate-002\n",
            "models/gemini-2.0-flash-live-001\n"
          ]
        }
      ]
    },
    {
      "cell_type": "code",
      "source": [
        "modelo = 'models/gemini-2.0-flash'\n",
        "\n",
        "resposta = client.models.generate_content(model=modelo, contents='Quem é o desenvolvedor do gemini?')"
      ],
      "metadata": {
        "id": "asG4riIRBrjg"
      },
      "execution_count": null,
      "outputs": []
    },
    {
      "cell_type": "code",
      "source": [
        "resposta.text"
      ],
      "metadata": {
        "colab": {
          "base_uri": "https://localhost:8080/",
          "height": 36
        },
        "id": "UqD2m75LC7L6",
        "outputId": "39dce3a2-7a33-4af9-f72d-f5394ada0394"
      },
      "execution_count": null,
      "outputs": [
        {
          "output_type": "execute_result",
          "data": {
            "text/plain": [
              "'O Gemini é desenvolvido pelo Google. Mais especificamente, pela equipe do Google AI.\\n'"
            ],
            "application/vnd.google.colaboratory.intrinsic+json": {
              "type": "string"
            }
          },
          "metadata": {},
          "execution_count": 6
        }
      ]
    },
    {
      "cell_type": "code",
      "source": [
        "chat = client.chats.create(model=modelo)\n",
        "\n",
        "resposta = chat.send_message('Olá, tudo bem?')\n",
        "\n",
        "resposta.text"
      ],
      "metadata": {
        "colab": {
          "base_uri": "https://localhost:8080/",
          "height": 36
        },
        "id": "0P08FayTEHY7",
        "outputId": "eb9045b8-980a-4e53-8b95-b85fea8e3fab"
      },
      "execution_count": null,
      "outputs": [
        {
          "output_type": "execute_result",
          "data": {
            "text/plain": [
              "'Tudo bem por aqui! 😊 Como posso te ajudar hoje?\\n'"
            ],
            "application/vnd.google.colaboratory.intrinsic+json": {
              "type": "string"
            }
          },
          "metadata": {},
          "execution_count": 7
        }
      ]
    },
    {
      "cell_type": "code",
      "source": [
        "from google.genai import types\n",
        "\n",
        "chat_config = types.GenerateContentConfig(system_instruction = 'Você é um assitente pessoal e para responder as perguntas dos usuários, você sempre irá adequar as variáveis (idade, ocupacao, estilo_conversa). Além disso você vai focar nos pontos mais relevantes a fim de maximizar o tempo e a qualidade da conversa')\n",
        "chat = client.chats.create(model=modelo, config=chat_config)\n",
        "\n"
      ],
      "metadata": {
        "id": "jKhiyYG3FewZ"
      },
      "execution_count": null,
      "outputs": []
    },
    {
      "cell_type": "code",
      "source": [
        "resposta = chat.send_message('O que é uma célula')\n",
        "\n",
        "resposta.text"
      ],
      "metadata": {
        "colab": {
          "base_uri": "https://localhost:8080/",
          "height": 36
        },
        "id": "OidHTT6LG2yO",
        "outputId": "cdd78e20-b1ce-40b4-cf82-4583ee2950c9"
      },
      "execution_count": null,
      "outputs": [
        {
          "output_type": "execute_result",
          "data": {
            "text/plain": [
              "'A célula é a unidade básica estrutural e funcional de todos os organismos vivos.\\n'"
            ],
            "application/vnd.google.colaboratory.intrinsic+json": {
              "type": "string"
            }
          },
          "metadata": {},
          "execution_count": 9
        }
      ]
    },
    {
      "cell_type": "code",
      "source": [
        "chat.get_history()"
      ],
      "metadata": {
        "colab": {
          "base_uri": "https://localhost:8080/"
        },
        "id": "JEJwbrIOHLrp",
        "outputId": "6256f59f-78b8-46cd-cbfa-dc40a96240d7"
      },
      "execution_count": null,
      "outputs": [
        {
          "output_type": "execute_result",
          "data": {
            "text/plain": [
              "[UserContent(parts=[Part(video_metadata=None, thought=None, inline_data=None, code_execution_result=None, executable_code=None, file_data=None, function_call=None, function_response=None, text='O que é uma célula')], role='user'),\n",
              " Content(parts=[Part(video_metadata=None, thought=None, inline_data=None, code_execution_result=None, executable_code=None, file_data=None, function_call=None, function_response=None, text='A célula é a unidade básica estrutural e funcional de todos os organismos vivos.\\n')], role='model')]"
            ]
          },
          "metadata": {},
          "execution_count": 10
        }
      ]
    },
    {
      "cell_type": "code",
      "source": [
        "nome = input('Olá! Qual é o seu nome?: ')\n",
        "idade = input(f'Muito bem, {nome}. Qual é a sua idade? ') # Usando f-string para incluir o nome\n",
        "ocupacao = input('Interessante! E qual é a sua ocupação no momento? ')\n",
        "estilo_conversa = input('Para nossa conversa, você prefere um estilo mais informal, acadêmico ou formal? ')\n",
        "\n",
        "print(f'\\nOk, {nome}, entendi. Podemos ter uma conversa {estilo_conversa}.')\n",
        "print('Digite \"fim\" a qualquer momento para encerrar a conversa.')\n",
        "print('-' * 30) # Linha separadora\n",
        "\n",
        "pergunta_inicial_para_topicos = ('No que posso te ajudar hoje?' )\n",
        "print('IA (sugerindo temas...):') # Mensagem para o usuário saber que a IA está pensando\n",
        "resposta_topicos = chat.send_message(pergunta_inicial_para_topicos)\n",
        "\n",
        "if resposta_topicos and resposta_topicos.text:\n",
        "        print(resposta_topicos.text) # Mostra a lista de tópicos sugerida pela IA\n",
        "\n",
        "else:\n",
        "        print('Peço descupas, mas não foi possível sugerir os tópicos no momento')\n",
        "        print('\\n')\n",
        "\n",
        "if resposta_topicos and resposta_topicos.text:\n",
        "    prompt = input('Escolha um dos tópicos da lista acima? (ou digite \"fim\" para sair) ')\n",
        "\n",
        "    prompt = input('No que posso te ajudar hoje? (ou digite \"fim\" para sair) ')\n",
        "    print('\\n')\n",
        "\n",
        "while prompt.lower() != 'fim':\n",
        "\n",
        "  resposta = chat.send_message(prompt)\n",
        "  print('IA: ', resposta.text)\n",
        "  print('\\n')\n",
        "\n",
        "  prompt = input('Você tem mais alguma dúvida? ')\n",
        "  print('\\n')\n",
        "\n",
        "print(f'Ok, {nome}, nossa conversa será encerrada.')\n",
        "print('Foi muito bom falar como você.')\n",
        "print('Volte sempre que quiser.')"
      ],
      "metadata": {
        "colab": {
          "base_uri": "https://localhost:8080/"
        },
        "id": "TriN5-4fHhFM",
        "outputId": "16ce2b17-907e-43bf-d8fd-4d53d09e4030"
      },
      "execution_count": null,
      "outputs": [
        {
          "output_type": "stream",
          "name": "stdout",
          "text": [
            "Olá! Qual é o seu nome?: Marcio\n",
            "Muito bem, Marcio. Qual é a sua idade? 48\n",
            "Interessante! E qual é a sua ocupação no momento? professor\n",
            "Para nossa conversa, você prefere um estilo mais informal, acadêmico ou formal? formal\n",
            "\n",
            "Ok, Marcio, entendi. Podemos ter uma conversa formal.\n",
            "Digite \"fim\" a qualquer momento para encerrar a conversa.\n",
            "------------------------------\n",
            "IA (sugerindo temas...):\n",
            "Como um assistente pessoal, estou aqui para facilitar sua vida! Para te ajudar da melhor forma possível, preciso saber qual é a sua prioridade no momento. 😊\n",
            "\n",
            "**Algumas opções de como posso te ajudar:**\n",
            "\n",
            "*   **Informações:** Buscar informações sobre qualquer assunto que te interesse.\n",
            "*   **Organização:** Criar listas de tarefas, definir lembretes e agendar compromissos.\n",
            "*   **Brainstorming:** Gerar ideias para projetos, presentes ou qualquer outra situação.\n",
            "*   **Entretenimento:** Recomendar livros, filmes, séries e músicas de acordo com seus gostos.\n",
            "*   **Redação:** Ajudar a escrever e-mails, cartas, relatórios e outros tipos de texto.\n",
            "*   **Resumo:** Criar resumos de textos e livros\n",
            "*   **Tradução:** Traduzir textos entre idiomas\n",
            "\n",
            "Se tiver algo mais específico em mente, é só me dizer! 😉\n",
            "\n",
            "Escolha um dos tópicos da lista acima? (ou digite \"fim\" para sair) Gostaria de falar sobre a água\n",
            "No que posso te ajudar hoje? (ou digite \"fim\" para sair) Quero falar sobre a água\n",
            "\n",
            "\n",
            "IA:  Que bom que você quer falar sobre a água! 😊 É um tema essencial.\n",
            "\n",
            "Para começarmos, qual aspecto da água te interessa mais?\n",
            "\n",
            "*   **Importância da hidratação:** Quantidade ideal de água por dia, sinais de desidratação e dicas para beber mais água.\n",
            "*   **Qualidade da água:** Tipos de água (mineral, filtrada, etc.), como garantir a qualidade da água que você consome e opções de filtros.\n",
            "*   **Sustentabilidade e uso consciente:** Dicas para economizar água em casa, o impacto do consumo de água na natureza e alternativas para reduzir o desperdício.\n",
            "*   **Curiosidades:** Fatos interessantes sobre a água, como a quantidade de água no corpo humano, a importância da água para a vida e a distribuição da água no planeta.\n",
            "\n",
            "Ou, se preferir, podemos falar sobre outro aspecto da água que te interesse! 😊\n",
            "\n",
            "\n",
            "\n",
            "Você tem mais alguma dúvida? sustentabilidade\n",
            "\n",
            "\n",
            "IA:  Excelente! Sustentabilidade é um tema super importante e relevante. 😊\n",
            "\n",
            "Para começarmos, qual aspecto da sustentabilidade e do uso da água te interessa mais?\n",
            "\n",
            "*   **Dicas práticas para economizar água em casa:** Pequenas mudanças na rotina que fazem a diferença, como consertar vazamentos, reutilizar água da máquina de lavar e tomar banhos mais curtos.\n",
            "*   **O impacto do consumo de água na natureza:** Como o uso excessivo de água afeta os rios, lagos e oceanos, e como a escassez de água pode levar a conflitos e problemas ambientais.\n",
            "*   **Alternativas para reduzir o desperdício de água:** Tecnologias e práticas inovadoras para economizar água na agricultura, na indústria e nas cidades, como a captação de água da chuva e o tratamento de esgoto para reutilização.\n",
            "*   **A importância da conscientização:** Como podemos influenciar outras pessoas a usar a água de forma mais responsável e como as empresas podem adotar práticas mais sustentáveis.\n",
            "\n",
            "Podemos começar por um desses tópicos ou abordar outro aspecto que te interesse! 😉\n",
            "\n",
            "\n",
            "\n",
            "Você tem mais alguma dúvida? Dicas práticas\n",
            "\n",
            "\n",
            "IA:  Perfeito! Vamos direto às dicas práticas para economizar água em casa. Aqui estão algumas ideias simples que você pode começar a aplicar hoje mesmo:\n",
            "\n",
            "*   **Conserte vazamentos:** Uma torneira pingando pode desperdiçar litros de água por dia. Verifique torneiras, chuveiros e descargas regularmente e conserte qualquer vazamento o mais rápido possível.\n",
            "*   **Feche a torneira:** Ao escovar os dentes, fazer a barba ou lavar a louça, feche a torneira enquanto não estiver usando a água.\n",
            "*   **Tome banhos mais curtos:** Reduza o tempo no chuveiro em alguns minutos. Você pode até desafiar-se a tomar banhos de 5 minutos! 😉\n",
            "*   **Use a máquina de lavar roupa e a lava-louças com carga total:** Evite lavar roupa ou louça com poucas peças. Espere juntar uma quantidade suficiente para usar a capacidade total da máquina.\n",
            "*   **Reutilize a água da máquina de lavar:** A água do enxágue da máquina de lavar pode ser usada para lavar o quintal, o carro ou para a descarga do vaso sanitário.\n",
            "*   **Regue as plantas de forma consciente:** Regue as plantas no início da manhã ou no final da tarde, quando a evaporação é menor. Use um regador em vez de mangueira e considere usar água da chuva para regar as plantas.\n",
            "*   **Limpe a casa de forma eficiente:** Use um balde com água em vez de mangueira para limpar o chão e outras superfícies.\n",
            "\n",
            "Qual dessas dicas você acha que seria mais fácil de implementar na sua rotina? Ou você já pratica alguma delas? 😊\n",
            "\n",
            "\n",
            "\n",
            "Você tem mais alguma dúvida? fim\n",
            "\n",
            "\n",
            "Ok, Marcio, nossa conversa será encerrada.\n",
            "Foi muito bom falar como você.\n",
            "Volte sempre que quiser.\n"
          ]
        }
      ]
    }
  ]
}